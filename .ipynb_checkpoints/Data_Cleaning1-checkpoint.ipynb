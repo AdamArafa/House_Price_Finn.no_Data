{
 "cells": [
  {
   "cell_type": "code",
   "execution_count": null,
   "id": "78ac9ab0",
   "metadata": {},
   "outputs": [],
   "source": [
    "import numpy as np\n",
    "import pandas as pd\n",
    "import matplotlib.pyplot as plt\n",
    "import seaborn as sns\n",
    "#from chart_studio.plotly import plotly as py\n",
    "#import plotly.graph_objects as go\n",
    "\n",
    "%matplotlib inline\n",
    "\n",
    "import warnings\n",
    "warnings.simplefilter('ignore')\n"
   ]
  },
  {
   "cell_type": "code",
   "execution_count": null,
   "id": "02e04163",
   "metadata": {},
   "outputs": [],
   "source": [
    "df = pd.read_csv('scraped_finn_data.csv')"
   ]
  },
  {
   "cell_type": "code",
   "execution_count": null,
   "id": "ff25f1df",
   "metadata": {
    "scrolled": true
   },
   "outputs": [],
   "source": [
    "df.head()"
   ]
  },
  {
   "cell_type": "code",
   "execution_count": null,
   "id": "2ff75bdb",
   "metadata": {},
   "outputs": [],
   "source": [
    "# seems like Fasiliteter values were not sraped correctly, I will drop this column  \n",
    "\n",
    "display(df['Fasiliteter'].head(5))\n",
    "\n",
    "df.drop('Fasiliteter', axis = 1, inplace = True)"
   ]
  },
  {
   "cell_type": "code",
   "execution_count": null,
   "id": "37c9b7b7",
   "metadata": {},
   "outputs": [],
   "source": [
    "df.shape"
   ]
  },
  {
   "cell_type": "code",
   "execution_count": null,
   "id": "c8306501",
   "metadata": {},
   "outputs": [],
   "source": [
    "# From the above cell, seems like we don't have any NaN values. \n",
    "# This is because I used -1 as my missing values while scraping the data\n",
    "\n",
    "# convert -1 to NaN\n",
    "# The reason why i am converting all -1 values to NaN in the entire dataset, is simply because I beleive \n",
    "# if the dataset has -1 as a real value and not -1 for an empty values. This -1 is a corrupt value and still should be \n",
    "# replaced with a NaN\n",
    "df = df.replace('-1', np.NaN)"
   ]
  },
  {
   "cell_type": "code",
   "execution_count": null,
   "id": "e7bfbbf0",
   "metadata": {},
   "outputs": [],
   "source": [
    "df.head(3)"
   ]
  },
  {
   "cell_type": "code",
   "execution_count": null,
   "id": "d5ff9ce8",
   "metadata": {
    "scrolled": true
   },
   "outputs": [],
   "source": [
    "# drop rows where all values are NaN\n",
    "\n",
    "df.dropna(how = 'all').reset_index().drop('index', axis = 1,inplace = True)"
   ]
  },
  {
   "cell_type": "code",
   "execution_count": null,
   "id": "d7f6fff8",
   "metadata": {},
   "outputs": [],
   "source": [
    "# check for duplicates\n",
    "\n",
    "df.duplicated().sum()"
   ]
  },
  {
   "cell_type": "code",
   "execution_count": null,
   "id": "9c2cd10e",
   "metadata": {},
   "outputs": [],
   "source": [
    "# drop all duplicates\n",
    "\n",
    "df.drop_duplicates(inplace = True)"
   ]
  },
  {
   "cell_type": "code",
   "execution_count": null,
   "id": "93c68d91",
   "metadata": {},
   "outputs": [],
   "source": [
    "#df.dtypes"
   ]
  },
  {
   "cell_type": "code",
   "execution_count": null,
   "id": "e91279b5",
   "metadata": {},
   "outputs": [],
   "source": [
    "# check for missing values\n",
    "df.isna().sum()"
   ]
  },
  {
   "cell_type": "code",
   "execution_count": null,
   "id": "2a8bf337",
   "metadata": {},
   "outputs": [],
   "source": [
    "df.isna().sum().plot(kind ='bar', figsize=(11,8))"
   ]
  },
  {
   "cell_type": "code",
   "execution_count": null,
   "id": "14168d92",
   "metadata": {},
   "outputs": [],
   "source": [
    "# I will drop all rows that don't contain at least 12 valid values (not NaN)\n",
    "\n",
    "df.dropna(thresh = 12, inplace = True)"
   ]
  },
  {
   "cell_type": "code",
   "execution_count": null,
   "id": "59e150f9",
   "metadata": {},
   "outputs": [],
   "source": [
    "df.shape[0]"
   ]
  },
  {
   "cell_type": "code",
   "execution_count": null,
   "id": "f06f7961",
   "metadata": {},
   "outputs": [],
   "source": [
    "df.isna().sum()"
   ]
  },
  {
   "cell_type": "markdown",
   "id": "19ba71cf",
   "metadata": {},
   "source": [
    "### # working with rows where 'Byggeår' is NaN (empty)"
   ]
  },
  {
   "cell_type": "code",
   "execution_count": null,
   "id": "ea0b4364",
   "metadata": {},
   "outputs": [],
   "source": [
    "filt = (df['Byggeår'].isna())\n",
    "df.loc[filt]"
   ]
  },
  {
   "cell_type": "code",
   "execution_count": null,
   "id": "631695f6",
   "metadata": {},
   "outputs": [],
   "source": [
    "# just 2 rows with missing 'Byggeår', I will correct values in these 2 rows manually (cuz it's just 2 rows )\n",
    "\n",
    "display(df.loc[949, 'Beskrivelse'])\n",
    "\n",
    "# from Beskrivelse, I see that they mentioned 'Under oppføring' which means that they are still in the constraction fase\n",
    "# I will set 'Byggeår' to 2021. I will also correct some other values\n",
    "\n",
    "df.loc[949, ['Byggeår', 'Bruksareal', 'Soverom', 'Etasje']] = ('2021', '4863', '4', '2')"
   ]
  },
  {
   "cell_type": "code",
   "execution_count": null,
   "id": "86bcf827",
   "metadata": {},
   "outputs": [],
   "source": [
    "display(df.loc[1198, 'Beskrivelse'])\n",
    "\n",
    "df.loc[1198, ['Byggeår', 'Primærrom', 'Etasje', 'Soverom']] = ('1901', '20.780', '1', '5')"
   ]
  },
  {
   "cell_type": "code",
   "execution_count": null,
   "id": "a19176f2",
   "metadata": {},
   "outputs": [],
   "source": []
  },
  {
   "cell_type": "markdown",
   "id": "49a382c7",
   "metadata": {},
   "source": [
    "### # working with rows where 'Etasje' is NaN (empty)"
   ]
  },
  {
   "cell_type": "code",
   "execution_count": null,
   "id": "7b0a60c4",
   "metadata": {
    "scrolled": true
   },
   "outputs": [],
   "source": [
    "df[ df['Etasje'].isna() ]"
   ]
  },
  {
   "cell_type": "code",
   "execution_count": null,
   "id": "1748cebf",
   "metadata": {
    "scrolled": true
   },
   "outputs": [],
   "source": [
    "# check the 'Beskrivelse' column, cuz we might find details about the floor ('Etasje') mentioned there.\n",
    "\n",
    "for i in range(len(df[df['Etasje'].isna()].reset_index())):\n",
    "    print(df.iloc[i]['Beskrivelse'] + '\\n')"
   ]
  },
  {
   "cell_type": "code",
   "execution_count": null,
   "id": "d940edf8",
   "metadata": {},
   "outputs": [],
   "source": [
    "# I didn't find any useful information by checking the Beskrivelse for the rows where 'Etasje' is missing.\n",
    "# But the data in these rows are in a good shape, except for Etasje. To avoid deleting these rows\n",
    "# I will just fill 'Etasje' with the most frequent value, which is the second floor\n",
    "\n",
    "display( df['Etasje'].value_counts().index[0] ) \n",
    "\n",
    "df['Etasje'].fillna(value = '2', inplace = True)"
   ]
  },
  {
   "cell_type": "code",
   "execution_count": null,
   "id": "576a4c5c",
   "metadata": {},
   "outputs": [],
   "source": [
    "df.columns"
   ]
  },
  {
   "cell_type": "markdown",
   "id": "fe2a1862",
   "metadata": {},
   "source": [
    "### working with the 'Prisantydning', 'Fellesgjeld', 'Omkostninger', 'Totalpris', 'Felleskost' columns"
   ]
  },
  {
   "cell_type": "markdown",
   "id": "489a9e6e",
   "metadata": {},
   "source": [
    "#### 'Fellesgjeld'"
   ]
  },
  {
   "cell_type": "code",
   "execution_count": null,
   "id": "385ef67c",
   "metadata": {},
   "outputs": [],
   "source": [
    "# if the value of a 'Fellesgjeld' cell contains 'per år' then its actually a 'kommunale avgifter' and  (I checked for these \n",
    "# addresses on Finn.no). this amount of money will be divided on 12 (number of months) and add it as if it was 'Felleskost.\n",
    "# and I will assign 0 to fellesgjeld.\n",
    "\n",
    "filt = (df['Fellesgjeld'].str.contains('per år'))\n",
    "\n",
    "df[filt]"
   ]
  },
  {
   "cell_type": "code",
   "execution_count": null,
   "id": "0f765403",
   "metadata": {},
   "outputs": [],
   "source": [
    "df.loc[filt, ['Felleskost']] = df.loc[filt, 'Fellesgjeld'].apply(\n",
    "    lambda x: str(np.round((float(x.replace('kr per år', '').replace(' ','')) / 12), 2)))"
   ]
  },
  {
   "cell_type": "code",
   "execution_count": null,
   "id": "b4a48c6e",
   "metadata": {},
   "outputs": [],
   "source": [
    "df.loc[82]"
   ]
  },
  {
   "cell_type": "code",
   "execution_count": null,
   "id": "921c452f",
   "metadata": {},
   "outputs": [],
   "source": [
    "df.loc[filt, 'Fellesgjeld'] = '0'"
   ]
  },
  {
   "cell_type": "markdown",
   "id": "2da22094",
   "metadata": {},
   "source": [
    "#### Felleskost"
   ]
  },
  {
   "cell_type": "code",
   "execution_count": null,
   "id": "c9cb3406",
   "metadata": {
    "scrolled": true
   },
   "outputs": [],
   "source": [
    "filt = (df['Felleskost'].replace(np.NaN, 'NaN').str.contains('per år'))\n",
    "df.loc[filt]"
   ]
  },
  {
   "cell_type": "code",
   "execution_count": null,
   "id": "38131a97",
   "metadata": {},
   "outputs": [],
   "source": [
    "df.loc[filt, 'Felleskost'] = df.loc[filt, 'Felleskost'].apply( lambda x: str(\n",
    "    np.round((float(x.replace('kr per år', '').replace(' ','')) / 12), 2)) )"
   ]
  },
  {
   "cell_type": "code",
   "execution_count": null,
   "id": "c8d686a8",
   "metadata": {},
   "outputs": [],
   "source": [
    "# here, I will swap values: 'Fellesgjeld' will go for 'Omkostninger' and 'Omkostninger' will go for 'Totalpris'\n",
    "\n",
    "df.loc[filt, ['Omkostninger', 'Totalpris']] = df.loc[filt, ['Fellesgjeld', 'Omkostninger']].values"
   ]
  },
  {
   "cell_type": "code",
   "execution_count": null,
   "id": "23711005",
   "metadata": {},
   "outputs": [],
   "source": [
    "# i will also set values for 'Fellesgjeld' to be '0'\n",
    "\n",
    "df.loc[filt, 'Fellesgjeld'] = '0'"
   ]
  },
  {
   "cell_type": "code",
   "execution_count": null,
   "id": "5059949a",
   "metadata": {},
   "outputs": [],
   "source": [
    "df.loc[filt]"
   ]
  },
  {
   "cell_type": "code",
   "execution_count": null,
   "id": "ed24a333",
   "metadata": {},
   "outputs": [],
   "source": []
  },
  {
   "cell_type": "markdown",
   "id": "9492ed84",
   "metadata": {},
   "source": [
    "####  'Prisantydning', 'Fellesgjeld', 'Omkostninger', 'Totalpris' columns"
   ]
  },
  {
   "cell_type": "markdown",
   "id": "9404e358",
   "metadata": {},
   "source": [
    "#### Totalpris"
   ]
  },
  {
   "cell_type": "code",
   "execution_count": null,
   "id": "6f60de23",
   "metadata": {},
   "outputs": [],
   "source": [
    "# convert the values of these columns to numric values\n",
    "\n",
    "for col in ['Prisantydning', 'Fellesgjeld', 'Omkostninger', 'Totalpris', 'Felleskost']:\n",
    "    df[col] = df[col].apply(lambda x: str(x).replace('kr','').replace(' ','')).astype('float')"
   ]
  },
  {
   "cell_type": "code",
   "execution_count": null,
   "id": "01a40e25",
   "metadata": {},
   "outputs": [],
   "source": [
    "df.info()"
   ]
  },
  {
   "cell_type": "code",
   "execution_count": null,
   "id": "b47245f4",
   "metadata": {},
   "outputs": [],
   "source": []
  },
  {
   "cell_type": "code",
   "execution_count": null,
   "id": "7d7f9625",
   "metadata": {
    "scrolled": true
   },
   "outputs": [],
   "source": [
    "filt = (df['Prisantydning'] > df['Totalpris'])\n",
    "df.loc[filt]"
   ]
  },
  {
   "cell_type": "code",
   "execution_count": null,
   "id": "560569e7",
   "metadata": {
    "scrolled": true
   },
   "outputs": [],
   "source": [
    "# here, I will also swap values: 'Fellesgjeld' will go for 'Omkostninger' and 'Omkostninger' will go for 'Totalpris'\n",
    "\n",
    "df.loc[filt, ['Omkostninger', 'Totalpris']] = df.loc[filt, ['Fellesgjeld', 'Omkostninger']].values"
   ]
  },
  {
   "cell_type": "code",
   "execution_count": null,
   "id": "12e11c7e",
   "metadata": {},
   "outputs": [],
   "source": [
    "# i will also set values for 'Fellesgjeld' to be '0'\n",
    "\n",
    "df.loc[filt, 'Fellesgjeld'] = '0'"
   ]
  },
  {
   "cell_type": "code",
   "execution_count": null,
   "id": "1fe691d1",
   "metadata": {},
   "outputs": [],
   "source": [
    "# i will also set values for 'Fellesgjeld' to be '0'\n",
    "\n",
    "df.loc[filt]"
   ]
  },
  {
   "cell_type": "code",
   "execution_count": null,
   "id": "466623fd",
   "metadata": {},
   "outputs": [],
   "source": []
  },
  {
   "cell_type": "code",
   "execution_count": null,
   "id": "04653a60",
   "metadata": {},
   "outputs": [],
   "source": [
    "filt = (df['Omkostninger'] > df['Totalpris'])\n",
    "df.loc[filt]"
   ]
  },
  {
   "cell_type": "code",
   "execution_count": null,
   "id": "8ad1d853",
   "metadata": {},
   "outputs": [],
   "source": []
  },
  {
   "cell_type": "code",
   "execution_count": null,
   "id": "baa29488",
   "metadata": {
    "scrolled": false
   },
   "outputs": [],
   "source": [
    "df.isna().sum().plot(kind ='bar', figsize=(11,8))"
   ]
  },
  {
   "cell_type": "code",
   "execution_count": null,
   "id": "81bd6269",
   "metadata": {
    "scrolled": true
   },
   "outputs": [],
   "source": [
    "filt = (df['Totalpris'].isna())\n",
    "df.loc[filt]"
   ]
  },
  {
   "cell_type": "code",
   "execution_count": null,
   "id": "dca2d21e",
   "metadata": {},
   "outputs": [],
   "source": [
    "# here, I will also swap values: 'Fellesgjeld' will go for 'Omkostninger' and 'Omkostninger' will go for 'Totalpris'\n",
    "# why i am sure that the value of the Fellesgjeld column is the real values of the 'Omkostninger', the reason is that in Norway\n",
    "# when you sell a 'Selveier' house/flat, we pay 2.5% of the 'Totalpris' as 'Omkostninger', and by calculating 2.5% of the\n",
    "# 'Totalpris' which if the values in the 'Omkostninger' column by now, you get the number we have in the 'Fellesgjeld' column\n",
    "\n",
    "df.loc[filt, ['Omkostninger', 'Totalpris']] = df.loc[filt, ['Fellesgjeld', 'Omkostninger']].values"
   ]
  },
  {
   "cell_type": "code",
   "execution_count": null,
   "id": "8c2d6cf2",
   "metadata": {},
   "outputs": [],
   "source": [
    "# i will also set values for 'Fellesgjeld' to be '0'\n",
    "\n",
    "df.loc[filt, 'Fellesgjeld'] = '0'"
   ]
  },
  {
   "cell_type": "code",
   "execution_count": null,
   "id": "6737f13d",
   "metadata": {
    "scrolled": true
   },
   "outputs": [],
   "source": [
    "df.loc[filt]"
   ]
  },
  {
   "cell_type": "code",
   "execution_count": null,
   "id": "8f6bc9a7",
   "metadata": {},
   "outputs": [],
   "source": []
  },
  {
   "cell_type": "code",
   "execution_count": null,
   "id": "2883ee87",
   "metadata": {},
   "outputs": [],
   "source": [
    "filt = (df['Totalpris'].isna())\n",
    "df.loc[filt]"
   ]
  },
  {
   "cell_type": "code",
   "execution_count": null,
   "id": "779aa242",
   "metadata": {},
   "outputs": [],
   "source": [
    "# the 'Totalpris' is 'Prisantydning' + 'Omkostninger'\n",
    "# the Omkostninger for these rows either 0 or unrealistic values\n",
    "# I will set the 'Totalpris' for these rows to be the same as 'Prisantydning'\n",
    "\n",
    "df.loc[filt, 'Totalpris'] = df.loc[filt, 'Prisantydning'].values"
   ]
  },
  {
   "cell_type": "code",
   "execution_count": null,
   "id": "946dd321",
   "metadata": {},
   "outputs": [],
   "source": []
  },
  {
   "cell_type": "code",
   "execution_count": null,
   "id": "4aaba7c0",
   "metadata": {
    "scrolled": true
   },
   "outputs": [],
   "source": [
    "\n",
    "filt = (df['Felleskost'].isna())\n",
    "df.loc[filt]"
   ]
  },
  {
   "cell_type": "code",
   "execution_count": null,
   "id": "4cbc3efa",
   "metadata": {},
   "outputs": [],
   "source": [
    "# if the value of the 'Omkostninger' is less than 10 000 then it belongs to 'Felleskost'\n",
    "\n",
    "df[filt, 'Felleskost'] = df.loc[filt, 'Omkostninger'].apply(lambda x: x if x < 10000 else 0)"
   ]
  },
  {
   "cell_type": "code",
   "execution_count": null,
   "id": "e56e8628",
   "metadata": {},
   "outputs": [],
   "source": []
  },
  {
   "cell_type": "code",
   "execution_count": null,
   "id": "9e381196",
   "metadata": {},
   "outputs": [],
   "source": []
  },
  {
   "cell_type": "code",
   "execution_count": null,
   "id": "bf3f151e",
   "metadata": {
    "scrolled": false
   },
   "outputs": [],
   "source": [
    "# appartment at index 134 and 154 are the same, but the one at index 156 is missing Eiendomsmegler, I will drop appartment \n",
    "# that are identical without Eiendomsmegler\n",
    "\n",
    "#display(df.sort_values('Eiendomsmegler'))\n",
    "\n",
    "'''\n",
    "df = df.sort_values('Eiendomsmegler').drop_duplicates(subset = ['Address', 'Prisantydning', 'Fellesgjeld', 'Omkostninger', 'Totalpris',\n",
    "       'Felleskost', 'Boligtype', 'Eieform_bolig', 'Soverom', 'Primærrom',\n",
    "       'Bruksareal', 'Etasje', 'Byggeår', 'Energimerking', 'Beskrivelse'], keep='first')\n",
    "'''"
   ]
  },
  {
   "cell_type": "code",
   "execution_count": null,
   "id": "789095ad",
   "metadata": {
    "scrolled": false
   },
   "outputs": [],
   "source": []
  },
  {
   "cell_type": "code",
   "execution_count": null,
   "id": "940dcfe4",
   "metadata": {
    "scrolled": true
   },
   "outputs": [],
   "source": []
  },
  {
   "cell_type": "code",
   "execution_count": null,
   "id": "acac1cd5",
   "metadata": {
    "scrolled": true
   },
   "outputs": [],
   "source": []
  },
  {
   "cell_type": "code",
   "execution_count": null,
   "id": "e791a9a6",
   "metadata": {
    "scrolled": true
   },
   "outputs": [],
   "source": []
  },
  {
   "cell_type": "code",
   "execution_count": null,
   "id": "4cd50ee9",
   "metadata": {},
   "outputs": [],
   "source": []
  },
  {
   "cell_type": "code",
   "execution_count": null,
   "id": "33235ca9",
   "metadata": {},
   "outputs": [],
   "source": []
  },
  {
   "cell_type": "code",
   "execution_count": null,
   "id": "1ded5bce",
   "metadata": {},
   "outputs": [],
   "source": []
  },
  {
   "cell_type": "code",
   "execution_count": null,
   "id": "3dd2e033",
   "metadata": {
    "scrolled": true
   },
   "outputs": [],
   "source": [
    "\n"
   ]
  },
  {
   "cell_type": "code",
   "execution_count": null,
   "id": "1e1d2913",
   "metadata": {},
   "outputs": [],
   "source": [
    "df.head()"
   ]
  },
  {
   "cell_type": "code",
   "execution_count": null,
   "id": "f4b37f85",
   "metadata": {
    "scrolled": true
   },
   "outputs": [],
   "source": [
    "df[ df['Omkostninger'].isna() ]"
   ]
  },
  {
   "cell_type": "code",
   "execution_count": null,
   "id": "71d9b2b6",
   "metadata": {},
   "outputs": [],
   "source": [
    "# from the above its obvious that, 'Boligtype' to the houses that misses 'Omkostninger' is (Selveier). \n",
    "# Omkostninger for Selveier houses/appartments in Norway is 2.5% of the 'Prisantydning'. This can easily be calculated.\n",
    "\n",
    "filt = (df['Omkostninger'].isna())\n",
    "\n",
    "df.loc[filt, 'Omkostninger'] = df.loc[filt, 'Prisantydning'].apply(\n",
    "    lambda x: np.round(float(x.split('kr')[0].replace(' ', '')) * 0.025, 2))\n"
   ]
  },
  {
   "cell_type": "code",
   "execution_count": null,
   "id": "7a2ecdc0",
   "metadata": {
    "scrolled": true
   },
   "outputs": [],
   "source": [
    "df[df['Totalpris'].isna()]"
   ]
  },
  {
   "cell_type": "code",
   "execution_count": null,
   "id": "3427ee04",
   "metadata": {},
   "outputs": [],
   "source": [
    "# replace NaN value with string 0 to be able to compare values later on\n",
    "\n",
    "filt = ( df['Totalpris'].isnull() )\n",
    "\n",
    "df.loc[filt, 'Omkostninger'] = df.loc[filt, 'Omkostninger'].fillna('0') "
   ]
  },
  {
   "cell_type": "code",
   "execution_count": null,
   "id": "ee6d0234",
   "metadata": {},
   "outputs": [],
   "source": [
    "# if the Omkostninger is higher than Prisantydning, then the Omkostninger is most likely the value of Totalpris,\n",
    "# if not consider the Prisantydning as the Totalpris\n",
    "\n",
    "df.loc[filt,'Totalpris'] = df.loc[filt].apply(lambda x : x['Omkostninger'] if x['Omkostninger'] > x['Prisantydning'] else x['Prisantydning'], axis = 1)"
   ]
  },
  {
   "cell_type": "code",
   "execution_count": null,
   "id": "a46b381e",
   "metadata": {
    "scrolled": true
   },
   "outputs": [],
   "source": [
    "# the Omkostninger values in these rows belong to Felleskost, because Omkostninger is not paid yearly, but Felleskost\n",
    "# can be that, but it's still paid monthly\n",
    "\n",
    "filt = (df['Omkostninger'].str.contains('år'))\n",
    "display(df.loc[filt])\n",
    "\n",
    "\n",
    "# from Omkostninger --> Felleskost for these cells\n",
    "\n",
    "df.loc[filt,'Felleskost'] = df.loc[filt,'Omkostninger']\n",
    "df.loc[filt,'Omkostninger'] = '0'\n",
    "display(display(df.loc[filt]))"
   ]
  },
  {
   "cell_type": "code",
   "execution_count": null,
   "id": "5a991743",
   "metadata": {
    "scrolled": true
   },
   "outputs": [],
   "source": [
    "df.isna().sum()"
   ]
  },
  {
   "cell_type": "code",
   "execution_count": null,
   "id": "cae82461",
   "metadata": {
    "scrolled": true
   },
   "outputs": [],
   "source": [
    "df['Felleskost'].fillna(value = '0', inplace = True)\n",
    "filt = (df['Felleskost'].str.contains('år'))\n",
    "display(df.loc[filt])"
   ]
  },
  {
   "cell_type": "code",
   "execution_count": null,
   "id": "ccad6d8c",
   "metadata": {},
   "outputs": [],
   "source": [
    "#  divided the value by 12 for rows with Felleskost per år (yearly)\n",
    "\n",
    "df.loc[filt,'Felleskost'] = df.loc[filt,'Felleskost'].apply(lambda x:  str(int(x.replace('per år', '').replace('kr','').replace(' ','').strip())/12))"
   ]
  },
  {
   "cell_type": "code",
   "execution_count": null,
   "id": "64f14bcf",
   "metadata": {
    "scrolled": true
   },
   "outputs": [],
   "source": [
    "# remove kr from Prisantydning, Fellesgjeld, Omkostninger, Totalpris, Felleskost\n",
    "\n",
    "df['Prisantydning'] = df['Prisantydning'].apply(lambda x: x.replace('per år','').replace('kr','').replace(' ','').strip())\n",
    "df['Fellesgjeld'] = df['Fellesgjeld'].apply(lambda x: x.replace('per år','').replace('kr','').replace(' ','').strip())\n",
    "df['Omkostninger'] = df['Omkostninger'].apply(lambda x: x.replace('per år','').replace('kr','').replace(' ','').strip())\n",
    "df['Totalpris'] = df['Totalpris'].apply(lambda x: x.replace('per år','').replace('kr','').replace(' ','').strip())\n",
    "df['Felleskost'] = df['Felleskost'].apply(lambda x: x.replace('per år','').replace('kr','').replace(' ','').strip())"
   ]
  },
  {
   "cell_type": "code",
   "execution_count": null,
   "id": "2560f64b",
   "metadata": {},
   "outputs": [],
   "source": [
    "df['Felleskost'].unique()"
   ]
  },
  {
   "cell_type": "code",
   "execution_count": null,
   "id": "c1f51155",
   "metadata": {},
   "outputs": [],
   "source": [
    "df.columns"
   ]
  },
  {
   "cell_type": "code",
   "execution_count": null,
   "id": "91ad2d22",
   "metadata": {},
   "outputs": [],
   "source": [
    "df['Prisantydning'].unique()"
   ]
  },
  {
   "cell_type": "code",
   "execution_count": null,
   "id": "eb380f81",
   "metadata": {},
   "outputs": [],
   "source": [
    "df.isna().sum()"
   ]
  },
  {
   "cell_type": "code",
   "execution_count": null,
   "id": "05b4aa98",
   "metadata": {},
   "outputs": [],
   "source": [
    "df.to_csv('data_cleaned.csv', index = False)"
   ]
  },
  {
   "cell_type": "code",
   "execution_count": null,
   "id": "6a4c3ed6",
   "metadata": {
    "scrolled": true
   },
   "outputs": [],
   "source": [
    "data_inn_df = pd.read_csv('data_cleaned.csv')\n",
    "data_inn_df.head()"
   ]
  },
  {
   "cell_type": "code",
   "execution_count": null,
   "id": "074b672d",
   "metadata": {},
   "outputs": [],
   "source": []
  }
 ],
 "metadata": {
  "kernelspec": {
   "display_name": "Python 3",
   "language": "python",
   "name": "python3"
  },
  "language_info": {
   "codemirror_mode": {
    "name": "ipython",
    "version": 3
   },
   "file_extension": ".py",
   "mimetype": "text/x-python",
   "name": "python",
   "nbconvert_exporter": "python",
   "pygments_lexer": "ipython3",
   "version": "3.8.8"
  }
 },
 "nbformat": 4,
 "nbformat_minor": 5
}
